{
 "cells": [
  {
   "cell_type": "code",
   "execution_count": 28,
   "metadata": {},
   "outputs": [
    {
     "data": {
      "text/plain": [
       "(43982, 6300, 6299)"
      ]
     },
     "execution_count": 28,
     "metadata": {},
     "output_type": "execute_result"
    }
   ],
   "source": [
    "import module.TorchDataset as td\n",
    "import platform\n",
    "import importlib\n",
    "\n",
    "importlib.reload(td) # 클래스 수정 시 import 리로드\n",
    "\n",
    "# os에 따라 다르게 적용 (코랩은 리눅스)\n",
    "current_os = platform.system()\n",
    "sep = \"\\\\\" if current_os == \"Windows\" else \"/\" \n",
    "\n",
    "\n",
    "# TrainSet\n",
    "root_train = f\"..{sep}01.Data{sep}fire{sep}train{sep}\" # 루트폴더\n",
    "extension = [\"jpg\", \"png\"] # 찾을 확장자\n",
    "img_size = 224\n",
    "\n",
    "train_dataset = td.TorchDataset(root_train, sep, extension, img_size, \"train\", False)\n",
    "\n",
    "\n",
    "# ValidSet\n",
    "root_valid = f\"..{sep}01.Data{sep}fire{sep}valid{sep}\" # 루트폴더\n",
    "valid_dataset = td.TorchDataset(root_valid, sep, extension, img_size, \"test\", False)\n",
    "\n",
    "\n",
    "# TestSet\n",
    "root_test = f\"..{sep}01.Data{sep}fire{sep}test{sep}\" # 루트폴더\n",
    "test_dataset = td.TorchDataset(root_test, sep, extension, img_size, \"test\", False)\n",
    "\n",
    "len(train_dataset), len(valid_dataset), len(test_dataset)"
   ]
  },
  {
   "cell_type": "code",
   "execution_count": 4,
   "metadata": {},
   "outputs": [],
   "source": [
    "# print(train_dataset.get_label_dict())\n",
    "# train_dataset.get_sample_image(8, True)\n",
    "# valid_dataset.get_sample_image(8, True)\n",
    "# test_dataset.get_sample_image(8, True)"
   ]
  },
  {
   "cell_type": "code",
   "execution_count": 5,
   "metadata": {},
   "outputs": [],
   "source": [
    "# train_dataset.get_target_ratio(\"Train\")\n",
    "# valid_dataset.get_target_ratio(\"Valid\")\n",
    "# test_dataset.get_target_ratio(\"Test\")"
   ]
  },
  {
   "cell_type": "code",
   "execution_count": 29,
   "metadata": {},
   "outputs": [
    {
     "data": {
      "text/plain": [
       "(2199, 315, 315)"
      ]
     },
     "execution_count": 29,
     "metadata": {},
     "output_type": "execute_result"
    }
   ],
   "source": [
    "import module.TorchDatasetCNN as tdCNN\n",
    "importlib.reload(tdCNN)\n",
    "\n",
    "cnn_runner = tdCNN.TorchDatasetCNN()\n",
    "batch_size = 20\n",
    "\n",
    "train_dataloader = cnn_runner.get_dataloader(train_dataset, batch_size, True, True)\n",
    "valid_dataloader = cnn_runner.get_dataloader(valid_dataset, batch_size, False, False)\n",
    "test_dataloader = cnn_runner.get_dataloader(test_dataset, batch_size, True, False)\n",
    "len(train_dataloader), len(valid_dataloader), len(test_dataloader)"
   ]
  },
  {
   "cell_type": "code",
   "execution_count": 7,
   "metadata": {},
   "outputs": [],
   "source": [
    "######################### ResNET50 ########################\n",
    "###########################################################\n",
    "###########################################################\n",
    "###########################################################"
   ]
  },
  {
   "cell_type": "code",
   "execution_count": null,
   "metadata": {},
   "outputs": [],
   "source": [
    "import torch.nn as nn\n",
    "from torchvision import models\n",
    "from torchsummary import summary\n",
    "\n",
    "epoch = 10\n",
    "device = cnn_runner.get_device()\n",
    "learning_rate = 0.001\n",
    "save_path = \"\"\n",
    "\n",
    "save_path = \"\"\n",
    "if current_os == \"Windows\": # 로컬 저장용\n",
    "    save_path = f\"save_model{sep}03.Torch_CNN{sep}03.resnet50_Header_Finetune{sep}resnet50_Header_Finetune.pth\"\n",
    "else:\n",
    "    save_path = \"/content/resnet50_Header_Finetune.pth\" # 코랩 저장용\n",
    "\n",
    "model = models.resnet50(weights='ResNet50_Weights.DEFAULT').to(device)\n",
    "\n",
    "# 모든 파라미터 Freezing\n",
    "for param in model.parameters():\n",
    "    param.requires_grad = False\n",
    "    \n",
    "# 마지막 레이어 layer4 파라미터만 풀어주기\n",
    "for param in model.layer4[2].parameters():\n",
    "    param.requires_grad = True\n",
    "\n",
    "\n",
    "# fc layer만 수정\n",
    "model.fc = nn.Linear(model.fc.in_features, 2)\n",
    "model = model.to(device)\n",
    "\n",
    "# trainable parameter 수 확인\n",
    "summary(model, input_size = (3, 224, 224))"
   ]
  },
  {
   "cell_type": "code",
   "execution_count": null,
   "metadata": {},
   "outputs": [],
   "source": [
    "print(model)"
   ]
  },
  {
   "cell_type": "code",
   "execution_count": null,
   "metadata": {},
   "outputs": [],
   "source": [
    "# Train\n",
    "train_acc, valid_acc, valid_recall = cnn_runner.run_epoch(epoch, train_dataloader, valid_dataloader, device, model, learning_rate, save_path)"
   ]
  },
  {
   "cell_type": "code",
   "execution_count": null,
   "metadata": {},
   "outputs": [],
   "source": [
    "# 모델 로딩 및 테스트\n",
    "save_path = f\"E:{sep}02.공부{sep}02.코딩{sep}01.Python{sep}01.Alphaco{sep}02.코드{sep}03.프로젝트{sep}03.이미지분류{sep}00.Code{sep}save_model{sep}03.Torch_CNN{sep}05.resnet50_Layer4_Finetune{sep}resnet50_Layer4_Finetune.pth\"\n",
    "model = cnn_runner.load_model(model, save_path, device)\n",
    "# cnn_runner.test_model(test_dataloader, device, model)"
   ]
  },
  {
   "cell_type": "code",
   "execution_count": null,
   "metadata": {},
   "outputs": [],
   "source": []
  }
 ],
 "metadata": {
  "kernelspec": {
   "display_name": "ALPHACO_PJ_03",
   "language": "python",
   "name": "python3"
  },
  "language_info": {
   "codemirror_mode": {
    "name": "ipython",
    "version": 3
   },
   "file_extension": ".py",
   "mimetype": "text/x-python",
   "name": "python",
   "nbconvert_exporter": "python",
   "pygments_lexer": "ipython3",
   "version": "3.12.3"
  }
 },
 "nbformat": 4,
 "nbformat_minor": 2
}

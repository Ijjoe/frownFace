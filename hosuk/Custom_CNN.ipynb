{
 "cells": [
  {
   "cell_type": "code",
   "execution_count": 27,
   "metadata": {},
   "outputs": [
    {
     "data": {
      "text/plain": [
       "(30249, 6300, 6299)"
      ]
     },
     "execution_count": 27,
     "metadata": {},
     "output_type": "execute_result"
    }
   ],
   "source": [
    "import module.TorchDataset as td\n",
    "import platform\n",
    "import importlib\n",
    "\n",
    "importlib.reload(td) # 클래스 수정 시 import 리로드\n",
    "\n",
    "# os에 따라 다르게 적용 (코랩은 리눅스)\n",
    "current_os = platform.system()\n",
    "sep = \"\\\\\" if current_os == \"Windows\" else \"/\" \n",
    "\n",
    "\n",
    "# TrainSet\n",
    "root_train = f\"..{sep}01.Data{sep}fire{sep}train{sep}\" # 루트폴더\n",
    "extension = \"jpg\" # 찾을 확장자\n",
    "img_size = 224\n",
    "\n",
    "train_dataset = td.TorchDataset(root_train, sep, extension, img_size, \"train\", False)\n",
    "\n",
    "\n",
    "# ValidSet\n",
    "root_valid = f\"..{sep}01.Data{sep}fire{sep}valid{sep}\" # 루트폴더\n",
    "extension = \"jpg\" # 찾을 확장자\n",
    "\n",
    "valid_dataset = td.TorchDataset(root_valid, sep, extension, img_size, \"test\", False)\n",
    "\n",
    "\n",
    "# TestSet\n",
    "root_test = f\"..{sep}01.Data{sep}fire{sep}test{sep}\" # 루트폴더\n",
    "extension = \"jpg\" # 찾을 확장자\n",
    "\n",
    "test_dataset = td.TorchDataset(root_test, sep, extension, img_size, \"test\", False)\n",
    "\n",
    "len(train_dataset), len(valid_dataset), len(test_dataset)"
   ]
  },
  {
   "cell_type": "code",
   "execution_count": 28,
   "metadata": {},
   "outputs": [],
   "source": [
    "# print(train_dataset.get_label_dict())\n",
    "# train_dataset.get_sample_image(8, True)\n",
    "# valid_dataset.get_sample_image(8, True)\n",
    "# test_dataset.get_sample_image(8, True)"
   ]
  },
  {
   "cell_type": "code",
   "execution_count": 29,
   "metadata": {},
   "outputs": [],
   "source": [
    "# train_dataset.get_target_ratio(\"Train\")\n",
    "# valid_dataset.get_target_ratio(\"Valid\")\n",
    "# test_dataset.get_target_ratio(\"Test\")"
   ]
  },
  {
   "cell_type": "code",
   "execution_count": 30,
   "metadata": {},
   "outputs": [
    {
     "data": {
      "text/plain": [
       "(1512, 315, 315)"
      ]
     },
     "execution_count": 30,
     "metadata": {},
     "output_type": "execute_result"
    }
   ],
   "source": [
    "import module.TorchDatasetCNN as tdCNN\n",
    "importlib.reload(tdCNN)\n",
    "\n",
    "cnn_runner = tdCNN.TorchDatasetCNN()\n",
    "batch_size = 20\n",
    "\n",
    "train_dataloader = cnn_runner.get_dataloader(train_dataset, batch_size, True, True)\n",
    "valid_dataloader = cnn_runner.get_dataloader(valid_dataset, batch_size, False, False)\n",
    "test_dataloader = cnn_runner.get_dataloader(test_dataset, batch_size, True, False)\n",
    "len(train_dataloader), len(valid_dataloader), len(test_dataloader)"
   ]
  },
  {
   "cell_type": "code",
   "execution_count": 31,
   "metadata": {},
   "outputs": [],
   "source": [
    "######################### Custom CNN ######################\n",
    "###########################################################\n",
    "###########################################################\n",
    "###########################################################"
   ]
  },
  {
   "cell_type": "code",
   "execution_count": null,
   "metadata": {},
   "outputs": [],
   "source": [
    "import module.CNN as CNN\n",
    "importlib.reload(CNN)\n",
    "\n",
    "epoch = 10\n",
    "device = cnn_runner.get_device()\n",
    "learning_rate = 0.001\n",
    "save_path = \"\"\n",
    "\n",
    "if current_os == \"Windows\": # 로컬 저장용\n",
    "    save_path = f\"save_model{sep}03.Torch_CNN{sep}02.9_layer_Custom_CNN{sep}fire_custom_9_CNN.pth\"\n",
    "else:\n",
    "    save_path = \"/content/fire_custom_9_CNN.pth\" # 코랩 저장용\n",
    "\n",
    "model = CNN.CNN(img_size).to(device)\n",
    "train_acc, valid_acc, valid_recall = cnn_runner.run_epoch(epoch, train_dataloader, valid_dataloader, device, model, learning_rate, save_path)\n"
   ]
  },
  {
   "cell_type": "code",
   "execution_count": 33,
   "metadata": {},
   "outputs": [
    {
     "name": "stdout",
     "output_type": "stream",
     "text": [
      "----------------------------------------------------------------\n",
      "        Layer (type)               Output Shape         Param #\n",
      "================================================================\n",
      "            Conv2d-1         [-1, 32, 244, 244]             896\n",
      "       BatchNorm2d-2         [-1, 32, 244, 244]              64\n",
      "              ReLU-3         [-1, 32, 244, 244]               0\n",
      "         MaxPool2d-4         [-1, 32, 122, 122]               0\n",
      "            Conv2d-5         [-1, 64, 122, 122]          18,496\n",
      "              ReLU-6         [-1, 64, 122, 122]               0\n",
      "         MaxPool2d-7           [-1, 64, 61, 61]               0\n",
      "            Conv2d-8          [-1, 128, 61, 61]          73,856\n",
      "              ReLU-9          [-1, 128, 61, 61]               0\n",
      "        MaxPool2d-10          [-1, 128, 30, 30]               0\n",
      "           Conv2d-11          [-1, 256, 30, 30]         295,168\n",
      "             ReLU-12          [-1, 256, 30, 30]               0\n",
      "        MaxPool2d-13          [-1, 256, 15, 15]               0\n",
      "           Conv2d-14          [-1, 518, 15, 15]       1,193,990\n",
      "             ReLU-15          [-1, 518, 15, 15]               0\n",
      "        MaxPool2d-16            [-1, 518, 7, 7]               0\n",
      "           Linear-17                 [-1, 5000]     126,915,000\n",
      "             ReLU-18                 [-1, 5000]               0\n",
      "           Linear-19                 [-1, 1000]       5,001,000\n",
      "             ReLU-20                 [-1, 1000]               0\n",
      "           Linear-21                   [-1, 50]          50,050\n",
      "             ReLU-22                   [-1, 50]               0\n",
      "           Linear-23                    [-1, 2]             102\n",
      "================================================================\n",
      "Total params: 133,548,622\n",
      "Trainable params: 133,548,622\n",
      "Non-trainable params: 0\n",
      "----------------------------------------------------------------\n",
      "Input size (MB): 0.68\n",
      "Forward/backward pass size (MB): 77.76\n",
      "Params size (MB): 509.45\n",
      "Estimated Total Size (MB): 587.89\n",
      "----------------------------------------------------------------\n"
     ]
    }
   ],
   "source": [
    "from torchsummary import summary\n",
    "summary(model, input_size = (3, 244, 244))"
   ]
  },
  {
   "cell_type": "code",
   "execution_count": 35,
   "metadata": {},
   "outputs": [],
   "source": [
    "# 모델 로딩 및 테스트\n",
    "# model = cnn_runner.load_model(model, save_path, device)\n",
    "# cnn_runner.test_model(test_dataloader, device, model)"
   ]
  },
  {
   "cell_type": "code",
   "execution_count": 97,
   "metadata": {},
   "outputs": [],
   "source": []
  }
 ],
 "metadata": {
  "kernelspec": {
   "display_name": "ALPHACO_PJ_03",
   "language": "python",
   "name": "python3"
  },
  "language_info": {
   "codemirror_mode": {
    "name": "ipython",
    "version": 3
   },
   "file_extension": ".py",
   "mimetype": "text/x-python",
   "name": "python",
   "nbconvert_exporter": "python",
   "pygments_lexer": "ipython3",
   "version": "3.12.3"
  }
 },
 "nbformat": 4,
 "nbformat_minor": 2
}

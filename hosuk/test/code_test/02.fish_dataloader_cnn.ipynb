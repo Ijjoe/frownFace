{
 "cells": [
  {
   "cell_type": "code",
   "execution_count": 4,
   "metadata": {},
   "outputs": [
    {
     "data": {
      "text/plain": [
       "(9281, 9281)"
      ]
     },
     "execution_count": 4,
     "metadata": {},
     "output_type": "execute_result"
    }
   ],
   "source": [
    "import module.DataPreprocessing as data_pp\n",
    "import platform\n",
    "\n",
    "# 클래스 수정 시 import 리로드\n",
    "import importlib\n",
    "importlib.reload(data_pp)\n",
    "\n",
    "current_os = platform.system()\n",
    "sep = \"\\\\\" if current_os == \"Windows\" else \"/\"\n",
    "\n",
    "# 파일경로, 라벨 정보 추출\n",
    "root_folder = f\"..{sep}01.Data{sep}01.fish\"\n",
    "dp = data_pp.DataPreprocessing()\n",
    "file_path, label = dp.get_file_path(root_folder, \"png\")\n",
    "len(file_path), len(label)"
   ]
  },
  {
   "cell_type": "code",
   "execution_count": 5,
   "metadata": {},
   "outputs": [
    {
     "data": {
      "text/plain": [
       "{'Black Sea Sprat': 0,\n",
       " 'Gilt-Head Bream': 1,\n",
       " 'Hourse Mackerel': 2,\n",
       " 'Red Mullet': 3,\n",
       " 'Red Sea Bream': 4,\n",
       " 'Sea Bass': 5,\n",
       " 'Shrimp': 6,\n",
       " 'Striped Red Mullet': 7,\n",
       " 'Trout': 8}"
      ]
     },
     "execution_count": 5,
     "metadata": {},
     "output_type": "execute_result"
    }
   ],
   "source": [
    "# 라벨 인덱싱\n",
    "indexed_label_arr = dp.label_indexing(label)\n",
    "dp.get_label_dic()"
   ]
  },
  {
   "cell_type": "code",
   "execution_count": 6,
   "metadata": {},
   "outputs": [],
   "source": [
    "# 파라미터 정의\n",
    "split_ratio = 0.15\n",
    "batch_size = 10\n",
    "img_size = 256"
   ]
  },
  {
   "cell_type": "code",
   "execution_count": 7,
   "metadata": {},
   "outputs": [
    {
     "data": {
      "text/plain": [
       "(1403, 1403, 6475)"
      ]
     },
     "execution_count": 7,
     "metadata": {},
     "output_type": "execute_result"
    }
   ],
   "source": [
    "# 데이터셋 나누기\n",
    "test_set, valid_set, train_set = dp.split_test_vaild_train(file_path, indexed_label_arr, split_ratio)\n",
    "len(test_set), len(valid_set), len(train_set)      "
   ]
  },
  {
   "cell_type": "code",
   "execution_count": 8,
   "metadata": {},
   "outputs": [],
   "source": [
    "# 배치사이즈로 나누기\n",
    "test_X, test_Y = dp.make_batch_arr(test_set, batch_size)\n",
    "valid_X, valid_Y = dp.make_batch_arr(valid_set, batch_size)\n",
    "train_X, train_Y = dp.make_batch_arr(train_set, batch_size)"
   ]
  },
  {
   "cell_type": "code",
   "execution_count": 9,
   "metadata": {},
   "outputs": [
    {
     "name": "stdout",
     "output_type": "stream",
     "text": [
      "True\n",
      "True\n",
      "True\n"
     ]
    }
   ],
   "source": [
    "# 폴더명, 라벨 정보 일치 여부 확인\n",
    "print(dp.verify_dataset(test_X, test_Y))\n",
    "print(dp.verify_dataset(valid_X, valid_Y))\n",
    "print(dp.verify_dataset(train_X, train_Y))"
   ]
  },
  {
   "cell_type": "code",
   "execution_count": 10,
   "metadata": {},
   "outputs": [
    {
     "data": {
      "text/plain": [
       "(647, 647, 140, 140, 140, 140)"
      ]
     },
     "execution_count": 10,
     "metadata": {},
     "output_type": "execute_result"
    }
   ],
   "source": [
    "# 배치 갯수\n",
    "len(train_X), len(train_Y), len(valid_X), len(valid_Y), len(test_X), len(test_Y)"
   ]
  },
  {
   "cell_type": "code",
   "execution_count": 11,
   "metadata": {},
   "outputs": [],
   "source": [
    "import module.CustomDataset as cd\n",
    "importlib.reload(cd)\n",
    "train_X_1d = [path for path_lst in train_X for path in path_lst]\n",
    "train_Y_1d = [label for label_lst in train_Y for label in label_lst]\n",
    "trainset = cd.CustomDataset(train_X_1d, train_Y_1d, img_size)\n",
    "\n",
    "valid_X_1d = [path for path_lst in valid_X for path in path_lst]\n",
    "valid_Y_1d = [label for label_lst in valid_Y for label in label_lst]\n",
    "validset = cd.CustomDataset(valid_X_1d, valid_Y_1d, img_size)\n"
   ]
  },
  {
   "cell_type": "code",
   "execution_count": 12,
   "metadata": {},
   "outputs": [
    {
     "data": {
      "text/plain": [
       "(6470, 1403)"
      ]
     },
     "execution_count": 12,
     "metadata": {},
     "output_type": "execute_result"
    }
   ],
   "source": [
    "len(trainset), len(valid_set)"
   ]
  },
  {
   "cell_type": "code",
   "execution_count": 31,
   "metadata": {},
   "outputs": [],
   "source": [
    "import module.CNN as CNN\n",
    "import module.CustomDataset as RunCNN\n",
    "\n",
    "# 클래스 수정 시 import 리로드\n",
    "importlib.reload(CNN)\n",
    "importlib.reload(RunCNN)\n",
    "\n",
    "learning_rate = 0.001\n",
    "training_epochs = 10\n",
    "\n",
    "runner = RunCNN.RunCNN()\n",
    "\n",
    "train_data_loader = runner.get_dataloader(trainset, batch_size, True, True)\n",
    "valid_data_loader = runner.get_dataloader(validset, batch_size, False, True)\n",
    "\n",
    "device = runner.get_device()\n",
    "model = CNN.CNN().to(device)"
   ]
  },
  {
   "cell_type": "code",
   "execution_count": 32,
   "metadata": {},
   "outputs": [
    {
     "data": {
      "text/plain": [
       "(647, 140)"
      ]
     },
     "execution_count": 32,
     "metadata": {},
     "output_type": "execute_result"
    }
   ],
   "source": [
    "len(train_data_loader), len(valid_data_loader)"
   ]
  },
  {
   "cell_type": "code",
   "execution_count": null,
   "metadata": {},
   "outputs": [],
   "source": [
    "runner.run_epoch(training_epochs, train_data_loader, valid_data_loader, device, model, learning_rate)"
   ]
  },
  {
   "cell_type": "code",
   "execution_count": null,
   "metadata": {},
   "outputs": [],
   "source": []
  }
 ],
 "metadata": {
  "kernelspec": {
   "display_name": "ALPHACO_PJ_03",
   "language": "python",
   "name": "python3"
  },
  "language_info": {
   "codemirror_mode": {
    "name": "ipython",
    "version": 3
   },
   "file_extension": ".py",
   "mimetype": "text/x-python",
   "name": "python",
   "nbconvert_exporter": "python",
   "pygments_lexer": "ipython3",
   "version": "3.12.3"
  }
 },
 "nbformat": 4,
 "nbformat_minor": 2
}

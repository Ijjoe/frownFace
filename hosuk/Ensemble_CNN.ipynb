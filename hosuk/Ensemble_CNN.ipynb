{
 "cells": [
  {
   "cell_type": "code",
   "execution_count": 1,
   "metadata": {},
   "outputs": [
    {
     "name": "stdout",
     "output_type": "stream",
     "text": [
      "6299\n",
      "{'nowildfire': 0, 'wildfire': 1}\n"
     ]
    }
   ],
   "source": [
    "import module.TorchDataset as td\n",
    "import platform\n",
    "import importlib\n",
    "\n",
    "importlib.reload(td) # 클래스 수정 시 import 리로드\n",
    "\n",
    "# os에 따라 다르게 적용 (코랩은 리눅스)\n",
    "current_os = platform.system()\n",
    "sep = \"\\\\\" if current_os == \"Windows\" else \"/\" \n",
    "\n",
    "img_size = 224\n",
    "\n",
    "# TestSet\n",
    "root_test = f\"..{sep}01.Data{sep}fire{sep}test{sep}\" # 루트폴더\n",
    "extension = \"jpg\" # 찾을 확장자\n",
    "\n",
    "test_dataset = td.TorchDataset(root_test, sep, extension, img_size, \"test\")\n",
    "\n",
    "print(len(test_dataset))\n",
    "print(test_dataset.get_label_dict())"
   ]
  },
  {
   "cell_type": "code",
   "execution_count": 2,
   "metadata": {},
   "outputs": [
    {
     "data": {
      "text/plain": [
       "315"
      ]
     },
     "execution_count": 2,
     "metadata": {},
     "output_type": "execute_result"
    }
   ],
   "source": [
    "import module.TorchDatasetCNN as tdCNN\n",
    "importlib.reload(tdCNN)\n",
    "\n",
    "cnn_runner = tdCNN.TorchDatasetCNN()\n",
    "batch_size = 20\n",
    "\n",
    "test_dataloader = cnn_runner.get_dataloader(test_dataset, batch_size, True, False)\n",
    "len(test_dataloader)"
   ]
  },
  {
   "cell_type": "code",
   "execution_count": 3,
   "metadata": {},
   "outputs": [],
   "source": [
    "######################## Ensenble CNN #####################\n",
    "###########################################################\n",
    "###########################################################\n",
    "###########################################################"
   ]
  },
  {
   "cell_type": "code",
   "execution_count": 8,
   "metadata": {},
   "outputs": [],
   "source": [
    "import torch.nn as nn\n",
    "from torchvision import models\n",
    "\n",
    "device = cnn_runner.get_device()\n",
    "\n",
    "custom_save_path = \"\"\n",
    "resnet50_layer4_save_path = \"\"\n",
    "\n",
    "if current_os == \"Windows\": # 로컬 저장용\n",
    "    custom_save_path = f\"save_model{sep}03.Torch_CNN{sep}02.9_layer_Custom_CNN{sep}fire_custom_9_CNN.pth\"\n",
    "    resnet50_layer4_save_path = f\"save_model{sep}03.Torch_CNN{sep}05.resnet50_Layer4_Finetune{sep}resnet50_Layer4_Finetune.pth\"\n",
    "    resnet50_full_save_path = f\"save_model{sep}03.Torch_CNN{sep}04.resnet50_Full_Finetune{sep}resnet50_Full_Finetune.pth\"\n",
    "else:\n",
    "    custom_save_path = f\"..save_model{sep}fire_custom_9_CNN.pth\"\n",
    "    resnet50_layer4_save_path = f\"..save_model{sep}resnet50_Layer4_Finetune.pth\" # 코랩 저장용\n",
    "    resnet50_full_save_path = f\"..save_model{sep}resnet50_Full_Finetune.pth.pth\""
   ]
  },
  {
   "cell_type": "code",
   "execution_count": 9,
   "metadata": {},
   "outputs": [],
   "source": [
    "import module.CNN as CNN\n",
    "importlib.reload(CNN)\n",
    "\n",
    "# Custom CNN 로드\n",
    "custom_model = CNN.CNN(img_size).to(device)\n",
    "custom_model = cnn_runner.load_model(custom_model, custom_save_path, device)\n",
    "custom_model.to(device)\n",
    "\n",
    "# ResNet layer4 Finetune CNN 로드\n",
    "import torch.nn as nn\n",
    "from torchvision import models\n",
    "resnet_model = models.resnet50().to(device)\n",
    "\n",
    "# fc layer 수정\n",
    "resnet_model.fc = nn.Linear(resnet_model.fc.in_features, 2)\n",
    "resnet_model = cnn_runner.load_model(resnet_model, resnet50_layer4_save_path, device)\n",
    "resnet_model = resnet_model.to(device)\n",
    "\n",
    "# ResNet full Finetune CNN 로드\n",
    "import torch.nn as nn\n",
    "from torchvision import models\n",
    "resnet_full_model = models.resnet50().to(device)\n",
    "\n",
    "# fc layer 수정\n",
    "resnet_full_model.fc = nn.Linear(resnet_full_model.fc.in_features, 2)\n",
    "resnet_full_model = cnn_runner.load_model(resnet_full_model, resnet50_full_save_path, device)\n",
    "resnet_full_model = resnet_full_model.to(device)\n"
   ]
  },
  {
   "cell_type": "code",
   "execution_count": 6,
   "metadata": {},
   "outputs": [
    {
     "name": "stderr",
     "output_type": "stream",
     "text": [
      "100%|██████████| 315/315 [15:47<00:00,  3.01s/it]"
     ]
    },
    {
     "name": "stdout",
     "output_type": "stream",
     "text": [
      "custom_9, resnet50_4_F\n",
      "일치 : 6257 / 6299, 정확도 : 99.33\n",
      "리콜 = tp : 3463, fn : 16 / racall : 99.54\n"
     ]
    },
    {
     "name": "stderr",
     "output_type": "stream",
     "text": [
      "\n"
     ]
    }
   ],
   "source": [
    "# 앙상블 모델 테스트\n",
    "kind = \"custom_9, resnet50_4_F\"\n",
    "cnn_runner.test_ensenble_model([custom_model, resnet_model], test_dataloader, device, kind)"
   ]
  },
  {
   "cell_type": "code",
   "execution_count": 10,
   "metadata": {},
   "outputs": [
    {
     "name": "stderr",
     "output_type": "stream",
     "text": [
      "100%|██████████| 315/315 [24:49<00:00,  4.73s/it]"
     ]
    },
    {
     "name": "stdout",
     "output_type": "stream",
     "text": [
      "resnet50_4_F, resnet50_Full\n",
      "일치 : 6254 / 6299, 정확도 : 99.29\n",
      "리콜 = tp : 3466, fn : 13 / racall : 99.63\n"
     ]
    },
    {
     "name": "stderr",
     "output_type": "stream",
     "text": [
      "\n"
     ]
    }
   ],
   "source": [
    "# 앙상블 모델 테스트\n",
    "kind = \"resnet50_4_F, resnet50_Full\"\n",
    "cnn_runner.test_ensenble_model([custom_model, resnet_model, resnet_full_model], test_dataloader, device, kind)"
   ]
  },
  {
   "cell_type": "code",
   "execution_count": null,
   "metadata": {},
   "outputs": [],
   "source": []
  }
 ],
 "metadata": {
  "kernelspec": {
   "display_name": "ALPHACO_PJ_03",
   "language": "python",
   "name": "python3"
  },
  "language_info": {
   "codemirror_mode": {
    "name": "ipython",
    "version": 3
   },
   "file_extension": ".py",
   "mimetype": "text/x-python",
   "name": "python",
   "nbconvert_exporter": "python",
   "pygments_lexer": "ipython3",
   "version": "3.12.3"
  }
 },
 "nbformat": 4,
 "nbformat_minor": 2
}

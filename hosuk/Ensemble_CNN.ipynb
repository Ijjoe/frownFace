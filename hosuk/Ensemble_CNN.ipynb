{
 "cells": [
  {
   "cell_type": "code",
   "execution_count": 12,
   "metadata": {},
   "outputs": [
    {
     "name": "stdout",
     "output_type": "stream",
     "text": [
      "6299 96\n",
      "{'nowildfire': 0, 'wildfire': 1}\n"
     ]
    }
   ],
   "source": [
    "import module.TorchDataset_aug as td\n",
    "import platform\n",
    "import importlib\n",
    "\n",
    "importlib.reload(td) # 클래스 수정 시 import 리로드\n",
    "\n",
    "# os에 따라 다르게 적용 (코랩은 리눅스)\n",
    "current_os = platform.system()\n",
    "sep = \"\\\\\" if current_os == \"Windows\" else \"/\" \n",
    "\n",
    "img_size = 224\n",
    "root_test = \"\"\n",
    "etc_test = \"\"\n",
    "\n",
    "# TestSet\n",
    "if current_os == \"Windows\":\n",
    "    root_test = f\"E:{sep}02.공부{sep}02.코딩{sep}01.Python{sep}01.Alphaco{sep}02.코드{sep}03.프로젝트{sep}03.이미지분류{sep}01.Data{sep}fire{sep}test{sep}\" # 테스트 루트 폴더\n",
    "    etc_test = f\"E:{sep}02.공부{sep}02.코딩{sep}01.Python{sep}01.Alphaco{sep}02.코드{sep}03.프로젝트{sep}03.이미지분류{sep}01.Data{sep}fire{sep}etc{sep}\" # 테스트 루트 폴더\n",
    "else:\n",
    "    root_test = f\"01.Data{sep}fire{sep}test{sep}\"\n",
    "    etc_test = f\"etc{sep}\"\n",
    "\n",
    "extension = \"jpg\" # 찾을 확장자\n",
    "test_dataset = td.TorchDataset(root_test, sep, extension, img_size, \"test\", False)\n",
    "etc_dataset = td.TorchDataset(etc_test, sep, extension, img_size, \"test\", True)\n",
    "\n",
    "\n",
    "# Hidden set\n",
    "# root_test = f\"E:{sep}02.공부{sep}02.코딩{sep}01.Python{sep}01.Alphaco{sep}02.코드{sep}03.프로젝트{sep}03.이미지분류{sep}01.Data{sep}fire{sep}etc{sep}\" # 테스트 루트 폴더\n",
    "# extension = \"jpg\" # 찾을 확장자\n",
    "# test_dataset = td.TorchDataset(root_test, sep, extension, img_size, \"test\", False)\n",
    "\n",
    "print(len(test_dataset), len(etc_dataset))\n",
    "print(test_dataset.get_label_dict())"
   ]
  },
  {
   "cell_type": "code",
   "execution_count": 13,
   "metadata": {},
   "outputs": [
    {
     "data": {
      "text/plain": [
       "(630, 10)"
      ]
     },
     "execution_count": 13,
     "metadata": {},
     "output_type": "execute_result"
    }
   ],
   "source": [
    "import module.TorchDatasetCNN as tdCNN\n",
    "importlib.reload(tdCNN)\n",
    "\n",
    "cnn_runner = tdCNN.TorchDatasetCNN()\n",
    "batch_size = 10\n",
    "\n",
    "test_dataloader = cnn_runner.get_dataloader(test_dataset, batch_size, False, False)\n",
    "etc_dataloader = cnn_runner.get_dataloader(etc_dataset, batch_size, False, False)\n",
    "len(test_dataloader), len(etc_dataloader)"
   ]
  },
  {
   "cell_type": "code",
   "execution_count": 3,
   "metadata": {},
   "outputs": [],
   "source": [
    "######################## Ensenble CNN #####################\n",
    "###########################################################\n",
    "###########################################################\n",
    "###########################################################"
   ]
  },
  {
   "cell_type": "code",
   "execution_count": 14,
   "metadata": {},
   "outputs": [],
   "source": [
    "import torch.nn as nn\n",
    "from torchvision import models\n",
    "\n",
    "device = cnn_runner.get_device()\n",
    "\n",
    "custom_save_path = \"\"\n",
    "resnet50_layer4_save_path = \"\"\n",
    "resnet50_full_save_path = \"\"\n",
    "googlenet_save_path = \"\"\n",
    "\n",
    "\n",
    "if current_os == \"Windows\": # 로컬 저장용\n",
    "    custom_save_path = f\"save_model{sep}03.Torch_CNN{sep}02.9_layer_Custom_CNN{sep}fire_custom_9_CNN.pth\"\n",
    "    resnet50_layer4_save_path = f\"save_model{sep}03.Torch_CNN{sep}05.resnet50_Layer4_Finetune{sep}resnet50_Layer4_Finetune.pth\"\n",
    "    resnet50_full_save_path = f\"save_model{sep}03.Torch_CNN{sep}04.resnet50_Full_Finetune{sep}resnet50_Full_Finetune.pth\"\n",
    "    googlenet_save_path = f\"save_model{sep}03.Torch_CNN{sep}06.googlenet_Finetune{sep}googlenet_Finetune.pth\"\n",
    "    \n",
    "else:\n",
    "    custom_save_path = f\"save_model{sep}fire_custom_9_CNN.pth\"\n",
    "    resnet50_layer4_save_path = f\"save_model{sep}resnet50_Layer4_Finetune.pth\" # 코랩 저장용\n",
    "    resnet50_full_save_path = f\"save_model{sep}resnet50_Full_Finetune.pth\"\n",
    "    googlenet_save_path = f\"save_model{sep}googlenet_Finetune.pth\""
   ]
  },
  {
   "cell_type": "code",
   "execution_count": 15,
   "metadata": {},
   "outputs": [],
   "source": [
    "import module.CNN as CNN\n",
    "importlib.reload(CNN)\n",
    "\n",
    "# Custom CNN 로드\n",
    "custom_model = CNN.CNN(img_size).to(device)\n",
    "custom_model = cnn_runner.load_model(custom_model, custom_save_path, device)\n",
    "custom_model.to(device)\n",
    "\n",
    "# ResNet layer4 Finetune CNN 로드\n",
    "import torch.nn as nn\n",
    "from torchvision import models\n",
    "resnet_model = models.resnet50().to(device)\n",
    "resnet_model.fc = nn.Linear(resnet_model.fc.in_features, 2) # fc layer 수정\n",
    "resnet_model = cnn_runner.load_model(resnet_model, resnet50_layer4_save_path, device)\n",
    "resnet_model = resnet_model.to(device)\n",
    "\n",
    "# ResNet full Finetune CNN 로드\n",
    "resnet_full_model = models.resnet50().to(device)\n",
    "resnet_full_model.fc = nn.Linear(resnet_full_model.fc.in_features, 2) # fc layer 수정\n",
    "resnet_full_model = cnn_runner.load_model(resnet_full_model, resnet50_full_save_path, device)\n",
    "resnet_full_model = resnet_full_model.to(device)\n",
    "\n",
    "\n",
    "# Googlenet inseption5b finetuen CNN 로드\n",
    "googlenet_finetune = models.googlenet(weights='DEFAULT').to(device)\n",
    "googlenet_finetune.fc = nn.Linear(googlenet_finetune.fc.in_features, 2) # fc layer 수정\n",
    "googlenet_finetune = cnn_runner.load_model(googlenet_finetune, googlenet_save_path, device)\n",
    "googlenet_finetune = googlenet_finetune.to(device)"
   ]
  },
  {
   "cell_type": "code",
   "execution_count": null,
   "metadata": {},
   "outputs": [],
   "source": [
    "# 앙상블 모델 테스트\n",
    "# kind = \"custom_9, resnet50_4_F\"\n",
    "# cnn_runner.test_ensenble_model([custom_model, resnet_model], test_dataloader, device, kind)"
   ]
  },
  {
   "cell_type": "code",
   "execution_count": 11,
   "metadata": {},
   "outputs": [
    {
     "name": "stderr",
     "output_type": "stream",
     "text": [
      "100%|██████████| 315/315 [25:29<00:00,  4.85s/it]"
     ]
    },
    {
     "name": "stdout",
     "output_type": "stream",
     "text": [
      "resnet50_4_F, resnet50_Full\n",
      "일치 : 6253 / 6299, 정확도 : 99.27\n",
      "리콜 = tp : 3463, fn : 16 / racall : 99.54\n"
     ]
    },
    {
     "name": "stderr",
     "output_type": "stream",
     "text": [
      "\n"
     ]
    }
   ],
   "source": [
    "# 앙상블 모델 테스트\n",
    "# kind = \"resnet50_4_F, resnet50_Full, custom_9\"\n",
    "# cnn_runner.test_ensenble_model([custom_model, resnet_model, resnet_full_model], test_dataloader, device, kind)"
   ]
  },
  {
   "cell_type": "code",
   "execution_count": 12,
   "metadata": {},
   "outputs": [
    {
     "name": "stderr",
     "output_type": "stream",
     "text": [
      "100%|██████████| 315/315 [14:19<00:00,  2.73s/it]"
     ]
    },
    {
     "name": "stdout",
     "output_type": "stream",
     "text": [
      "custom_9, resnet50_Full\n",
      "일치 : 6181 / 6299, 정확도 : 98.13\n",
      "리콜 = tp : 3442, fn : 37 / racall : 98.94\n"
     ]
    },
    {
     "name": "stderr",
     "output_type": "stream",
     "text": [
      "\n"
     ]
    }
   ],
   "source": [
    "# 앙상블 모델 테스트\n",
    "# kind = \"custom_9, resnet50_Full\"\n",
    "# cnn_runner.test_ensenble_model([custom_model, resnet_full_model], test_dataloader, device, kind)"
   ]
  },
  {
   "cell_type": "code",
   "execution_count": null,
   "metadata": {},
   "outputs": [],
   "source": [
    "# 앙상블 모델 테스트\n",
    "kind = \"resnet50_4_F, resnet50_Full\"\n",
    "cnn_runner.test_ensenble_model([resnet_model, resnet_full_model], test_dataloader, device, kind)"
   ]
  },
  {
   "cell_type": "code",
   "execution_count": 8,
   "metadata": {},
   "outputs": [
    {
     "name": "stderr",
     "output_type": "stream",
     "text": [
      "100%|██████████| 315/315 [21:12<00:00,  4.04s/it]"
     ]
    },
    {
     "name": "stdout",
     "output_type": "stream",
     "text": [
      "resnet50_4_F, googlenet_5b\n",
      "일치 : 6258 / 6299, 정확도 : 99.35\n",
      "리콜 = tp : 3464, fn : 15 / racall : 99.57\n"
     ]
    },
    {
     "name": "stderr",
     "output_type": "stream",
     "text": [
      "\n"
     ]
    }
   ],
   "source": [
    "# 앙상블 모델 테스트\n",
    "kind = \"resnet50_4_F, googlenet_5b\"\n",
    "cnn_runner.test_ensenble_model([googlenet_finetune, resnet_model], test_dataloader, device, kind)"
   ]
  },
  {
   "cell_type": "code",
   "execution_count": 17,
   "metadata": {},
   "outputs": [
    {
     "name": "stderr",
     "output_type": "stream",
     "text": [
      "100%|██████████| 10/10 [00:08<00:00,  1.16it/s]"
     ]
    },
    {
     "name": "stdout",
     "output_type": "stream",
     "text": [
      "resnet50_4_F, googlenet_5b\n",
      "일치 : 62 / 96, 정확도 : 64.58\n",
      "리콜 = tp : 34, fn : 12 / racall : 73.91\n"
     ]
    },
    {
     "name": "stderr",
     "output_type": "stream",
     "text": [
      "\n"
     ]
    }
   ],
   "source": [
    "# 모델 테스트\n",
    "kind = \"resnet50_4_F, googlenet_5b\"\n",
    "cnn_runner.test_ensenble_model([googlenet_finetune], etc_dataloader, device, kind)"
   ]
  },
  {
   "cell_type": "code",
   "execution_count": null,
   "metadata": {},
   "outputs": [],
   "source": []
  },
  {
   "cell_type": "code",
   "execution_count": null,
   "metadata": {},
   "outputs": [],
   "source": []
  },
  {
   "cell_type": "code",
   "execution_count": null,
   "metadata": {},
   "outputs": [],
   "source": []
  },
  {
   "cell_type": "code",
   "execution_count": null,
   "metadata": {},
   "outputs": [],
   "source": []
  },
  {
   "cell_type": "code",
   "execution_count": null,
   "metadata": {},
   "outputs": [],
   "source": []
  },
  {
   "cell_type": "code",
   "execution_count": 29,
   "metadata": {},
   "outputs": [
    {
     "data": {
      "text/plain": [
       "(1, 1)"
      ]
     },
     "execution_count": 29,
     "metadata": {},
     "output_type": "execute_result"
    }
   ],
   "source": [
    "temp_path = \"C:\\\\Users\\\\HS\\\\OneDrive\\\\바탕 화면\\\\\"\n",
    "temp_dataset = td.TorchDataset(temp_path, sep, extension, img_size, \"test\", False)\n",
    "\n",
    "temp_dataloader = cnn_runner.get_dataloader(temp_dataset, batch_size, False, False)\n",
    "len(temp_dataset), len(temp_dataloader)"
   ]
  },
  {
   "cell_type": "code",
   "execution_count": null,
   "metadata": {},
   "outputs": [],
   "source": [
    "# 앙상블 모델 테스트\n",
    "kind = \"resnet50_4_F, resnet50_Full\"\n",
    "cnn_runner.test_ensenble_model([resnet_model, resnet_full_model], temp_dataloader, device, kind)"
   ]
  },
  {
   "cell_type": "code",
   "execution_count": null,
   "metadata": {},
   "outputs": [],
   "source": []
  }
 ],
 "metadata": {
  "kernelspec": {
   "display_name": "ALPHACO_PJ_03",
   "language": "python",
   "name": "python3"
  },
  "language_info": {
   "codemirror_mode": {
    "name": "ipython",
    "version": 3
   },
   "file_extension": ".py",
   "mimetype": "text/x-python",
   "name": "python",
   "nbconvert_exporter": "python",
   "pygments_lexer": "ipython3",
   "version": "3.12.3"
  }
 },
 "nbformat": 4,
 "nbformat_minor": 2
}
